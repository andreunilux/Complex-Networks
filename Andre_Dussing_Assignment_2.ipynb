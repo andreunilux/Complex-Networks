{
 "cells": [
  {
   "cell_type": "markdown",
   "metadata": {},
   "source": [
    "# Analysis of Complex Networks \n",
    "## Assignment 2 (Group 6)\n",
    "### Student: André Dussing  ID: 018113442F "
   ]
  },
  {
   "cell_type": "markdown",
   "metadata": {},
   "source": [
    "Github: https://github.com/andreunilux/Complex-Networks"
   ]
  },
  {
   "cell_type": "code",
   "execution_count": 49,
   "metadata": {},
   "outputs": [],
   "source": [
    "# import necessary libraries\n",
    "import networkx as nx\n",
    "import numpy as np\n",
    "import pandas as pd\n",
    "import os\n",
    "import matplotlib.pyplot as plt\n",
    "import random"
   ]
  },
  {
   "cell_type": "markdown",
   "metadata": {},
   "source": [
    "At first we set the path according to our dataset we are using (here Group6)\n"
   ]
  },
  {
   "cell_type": "markdown",
   "metadata": {},
   "source": [
    "1. Facebook-Ego \n",
    "2. Twitter-Ego"
   ]
  },
  {
   "cell_type": "code",
   "execution_count": 2,
   "metadata": {},
   "outputs": [],
   "source": [
    "path = \"exercise_complex_network/Datasets/Group6\"\n",
    "path_facebook = os.path.join(path,\"Facebook-Ego\", \"1684.edges\" ) # 1. Facebook-Ego\n",
    "path_twitter =  os.path.join(path,\"Twitter-Ego\", \"2029971.edges\" ) # 2. Twitter-Ego\n",
    "# Now we read the edge list from the file and create the graph with NetworkX\n",
    "\n",
    "\n",
    "facebook_graph = nx.read_edgelist(path_facebook, nodetype=int) # Undirected\n",
    "twitter_graph = nx.read_edgelist(path_twitter, nodetype=int, create_using=nx.DiGraph()) #Directed\n",
    "\n",
    "\n"
   ]
  },
  {
   "cell_type": "markdown",
   "metadata": {},
   "source": [
    "### (a) What is the degree distribution of the network? Please plot the distribution and attach it to your answer sheet."
   ]
  },
  {
   "cell_type": "markdown",
   "metadata": {},
   "source": [
    "1. Facebook (Undirected)"
   ]
  },
  {
   "cell_type": "code",
   "execution_count": 31,
   "metadata": {},
   "outputs": [
    {
     "data": {
      "image/png": "[encoded data removed]",
      "text/plain": [
       "<Figure size 800x600 with 1 Axes>"
      ]
     },
     "metadata": {},
     "output_type": "display_data"
    },
    {
     "data": {
      "text/html": [
       "<div>\n",
       "<style scoped>\n",
       "    .dataframe tbody tr th:only-of-type {\n",
       "        vertical-align: middle;\n",
       "    }\n",
       "\n",
       "    .dataframe tbody tr th {\n",
       "        vertical-align: top;\n",
       "    }\n",
       "\n",
       "    .dataframe thead th {\n",
       "        text-align: right;\n",
       "    }\n",
       "</style>\n",
       "<table border=\"1\" class=\"dataframe\">\n",
       "  <thead>\n",
       "    <tr style=\"text-align: right;\">\n",
       "      <th></th>\n",
       "      <th>node_id</th>\n",
       "      <th>degree</th>\n",
       "    </tr>\n",
       "  </thead>\n",
       "  <tbody>\n",
       "    <tr>\n",
       "      <th>count</th>\n",
       "      <td>157.000000</td>\n",
       "      <td>157.000000</td>\n",
       "    </tr>\n",
       "    <tr>\n",
       "      <th>mean</th>\n",
       "      <td>2588.363057</td>\n",
       "      <td>7.248408</td>\n",
       "    </tr>\n",
       "    <tr>\n",
       "      <th>std</th>\n",
       "      <td>484.394191</td>\n",
       "      <td>5.753100</td>\n",
       "    </tr>\n",
       "    <tr>\n",
       "      <th>min</th>\n",
       "      <td>58.000000</td>\n",
       "      <td>1.000000</td>\n",
       "    </tr>\n",
       "    <tr>\n",
       "      <th>25%</th>\n",
       "      <td>2685.000000</td>\n",
       "      <td>3.000000</td>\n",
       "    </tr>\n",
       "    <tr>\n",
       "      <th>50%</th>\n",
       "      <td>2725.000000</td>\n",
       "      <td>5.000000</td>\n",
       "    </tr>\n",
       "    <tr>\n",
       "      <th>75%</th>\n",
       "      <td>2765.000000</td>\n",
       "      <td>10.000000</td>\n",
       "    </tr>\n",
       "    <tr>\n",
       "      <th>max</th>\n",
       "      <td>2808.000000</td>\n",
       "      <td>30.000000</td>\n",
       "    </tr>\n",
       "  </tbody>\n",
       "</table>\n",
       "</div>"
      ],
      "text/plain": [
       "           node_id      degree\n",
       "count   157.000000  157.000000\n",
       "mean   2588.363057    7.248408\n",
       "std     484.394191    5.753100\n",
       "min      58.000000    1.000000\n",
       "25%    2685.000000    3.000000\n",
       "50%    2725.000000    5.000000\n",
       "75%    2765.000000   10.000000\n",
       "max    2808.000000   30.000000"
      ]
     },
     "execution_count": 31,
     "metadata": {},
     "output_type": "execute_result"
    }
   ],
   "source": [
    "def degree_distribution_facebook(graph=facebook_graph, title=\"Facebook Graph\"):\n",
    "    degrees = [degree_of_node for node, degree_of_node in graph.degree()]\n",
    "    both = [(n,d) for n, d in graph.degree()] # tuples (node, degree)\n",
    "    plt.figure(figsize=(8, 6))\n",
    "    plt.hist(degrees, bins=50, color='blue', edgecolor='black')\n",
    "    plt.title(title)\n",
    "    plt.xlabel(\"Degree of nodes\")\n",
    "    plt.ylabel(\"Frequency\")\n",
    "    plt.grid(True)\n",
    "    plt.show()\n",
    "    df_both = pd.DataFrame(both, columns=[\"node_id\", \"degree\"])\n",
    "    return df_both\n",
    "\n",
    "df_facebook_nodes =degree_distribution_facebook()\n",
    "df_facebook_nodes.describe()"
   ]
  },
  {
   "cell_type": "markdown",
   "metadata": {},
   "source": [
    "2. Twitter (Directed)"
   ]
  },
  {
   "cell_type": "code",
   "execution_count": 26,
   "metadata": {},
   "outputs": [
    {
     "data": {
      "image/png": "[encoded data removed]",
      "text/plain": [
       "<Figure size 800x600 with 2 Axes>"
      ]
     },
     "metadata": {},
     "output_type": "display_data"
    },
    {
     "name": "stdout",
     "output_type": "stream",
     "text": [
      "incoming\n"
     ]
    },
    {
     "data": {
      "text/html": [
       "<div>\n",
       "<style scoped>\n",
       "    .dataframe tbody tr th:only-of-type {\n",
       "        vertical-align: middle;\n",
       "    }\n",
       "\n",
       "    .dataframe tbody tr th {\n",
       "        vertical-align: top;\n",
       "    }\n",
       "\n",
       "    .dataframe thead th {\n",
       "        text-align: right;\n",
       "    }\n",
       "</style>\n",
       "<table border=\"1\" class=\"dataframe\">\n",
       "  <thead>\n",
       "    <tr style=\"text-align: right;\">\n",
       "      <th></th>\n",
       "      <th>node_id</th>\n",
       "      <th>degree</th>\n",
       "    </tr>\n",
       "  </thead>\n",
       "  <tbody>\n",
       "    <tr>\n",
       "      <th>count</th>\n",
       "      <td>1.430000e+02</td>\n",
       "      <td>143.000000</td>\n",
       "    </tr>\n",
       "    <tr>\n",
       "      <th>mean</th>\n",
       "      <td>2.915733e+07</td>\n",
       "      <td>19.790210</td>\n",
       "    </tr>\n",
       "    <tr>\n",
       "      <th>std</th>\n",
       "      <td>2.905869e+07</td>\n",
       "      <td>18.733059</td>\n",
       "    </tr>\n",
       "    <tr>\n",
       "      <th>min</th>\n",
       "      <td>1.029700e+04</td>\n",
       "      <td>0.000000</td>\n",
       "    </tr>\n",
       "    <tr>\n",
       "      <th>25%</th>\n",
       "      <td>1.470811e+07</td>\n",
       "      <td>4.000000</td>\n",
       "    </tr>\n",
       "    <tr>\n",
       "      <th>50%</th>\n",
       "      <td>1.839377e+07</td>\n",
       "      <td>15.000000</td>\n",
       "    </tr>\n",
       "    <tr>\n",
       "      <th>75%</th>\n",
       "      <td>3.047239e+07</td>\n",
       "      <td>31.000000</td>\n",
       "    </tr>\n",
       "    <tr>\n",
       "      <th>max</th>\n",
       "      <td>1.621451e+08</td>\n",
       "      <td>77.000000</td>\n",
       "    </tr>\n",
       "  </tbody>\n",
       "</table>\n",
       "</div>"
      ],
      "text/plain": [
       "            node_id      degree\n",
       "count  1.430000e+02  143.000000\n",
       "mean   2.915733e+07   19.790210\n",
       "std    2.905869e+07   18.733059\n",
       "min    1.029700e+04    0.000000\n",
       "25%    1.470811e+07    4.000000\n",
       "50%    1.839377e+07   15.000000\n",
       "75%    3.047239e+07   31.000000\n",
       "max    1.621451e+08   77.000000"
      ]
     },
     "execution_count": 26,
     "metadata": {},
     "output_type": "execute_result"
    }
   ],
   "source": [
    "def degree_distribution_twitter(graph=twitter_graph, title=\"Twitter Graph\"):\n",
    "    degrees_in = [degree_of_node for node, degree_of_node in graph.in_degree()]\n",
    "    both_in = [(n,d) for n, d in graph.in_degree()] # tuples (node, degree)\n",
    "    degrees_out = [degree_of_node for node, degree_of_node in graph.out_degree()]\n",
    "    both_out = [(n,d) for n, d in graph.out_degree()] # tuples (node, degree)\n",
    "    df_both_in = pd.DataFrame(both_in, columns=[\"node_id\", \"degree\"])\n",
    "    df_both_out = pd.DataFrame(both_out, columns=[\"node_id\", \"degree\"])\n",
    "    \n",
    "    plt.figure(figsize=(8, 6))\n",
    "    # In-degree histogram\n",
    "    plt.subplot(1, 2, 1)\n",
    "    plt.hist(degrees_in, bins=30, color='blue', edgecolor='black')\n",
    "    plt.title(f\"{title} - In-Degree Distribution\")\n",
    "    plt.xlabel(\"In-Degree\")\n",
    "    plt.ylabel(\"Frequency\")\n",
    "    plt.grid(True)\n",
    "\n",
    "    # Out-degree histogram\n",
    "    plt.subplot(1, 2, 2)\n",
    "    plt.hist(degrees_out, bins=30, color='green', edgecolor='black')\n",
    "    plt.title(f\"{title} - Out-Degree Distribution\")\n",
    "    plt.xlabel(\"Out-Degree\")\n",
    "    plt.ylabel(\"Frequency\")\n",
    "    plt.grid(True)\n",
    "\n",
    "    # Show the plots\n",
    "    plt.tight_layout()\n",
    "    plt.show()\n",
    "\n",
    "    return df_both_in,df_both_out\n",
    "\n",
    "df_twitter_in ,df_twitter_out =degree_distribution_twitter()\n",
    "print(\"incoming\")\n",
    "df_twitter_in.describe()\n"
   ]
  },
  {
   "cell_type": "markdown",
   "metadata": {},
   "source": [
    "### (b) According to the degree distribution, what is the main difference between the chosen network and a random network with the same number of nodes? What may cause the difference?"
   ]
  },
  {
   "cell_type": "code",
   "execution_count": 32,
   "metadata": {},
   "outputs": [
    {
     "data": {
      "image/png": "[encoded data removed]",
      "text/plain": [
       "<Figure size 800x600 with 1 Axes>"
      ]
     },
     "metadata": {},
     "output_type": "display_data"
    },
    {
     "data": {
      "text/html": [
       "<div>\n",
       "<style scoped>\n",
       "    .dataframe tbody tr th:only-of-type {\n",
       "        vertical-align: middle;\n",
       "    }\n",
       "\n",
       "    .dataframe tbody tr th {\n",
       "        vertical-align: top;\n",
       "    }\n",
       "\n",
       "    .dataframe thead th {\n",
       "        text-align: right;\n",
       "    }\n",
       "</style>\n",
       "<table border=\"1\" class=\"dataframe\">\n",
       "  <thead>\n",
       "    <tr style=\"text-align: right;\">\n",
       "      <th></th>\n",
       "      <th>node_id</th>\n",
       "      <th>degree</th>\n",
       "    </tr>\n",
       "  </thead>\n",
       "  <tbody>\n",
       "    <tr>\n",
       "      <th>0</th>\n",
       "      <td>0</td>\n",
       "      <td>5</td>\n",
       "    </tr>\n",
       "    <tr>\n",
       "      <th>1</th>\n",
       "      <td>1</td>\n",
       "      <td>12</td>\n",
       "    </tr>\n",
       "    <tr>\n",
       "      <th>2</th>\n",
       "      <td>2</td>\n",
       "      <td>9</td>\n",
       "    </tr>\n",
       "    <tr>\n",
       "      <th>3</th>\n",
       "      <td>3</td>\n",
       "      <td>10</td>\n",
       "    </tr>\n",
       "    <tr>\n",
       "      <th>4</th>\n",
       "      <td>4</td>\n",
       "      <td>5</td>\n",
       "    </tr>\n",
       "    <tr>\n",
       "      <th>...</th>\n",
       "      <td>...</td>\n",
       "      <td>...</td>\n",
       "    </tr>\n",
       "    <tr>\n",
       "      <th>152</th>\n",
       "      <td>152</td>\n",
       "      <td>8</td>\n",
       "    </tr>\n",
       "    <tr>\n",
       "      <th>153</th>\n",
       "      <td>153</td>\n",
       "      <td>3</td>\n",
       "    </tr>\n",
       "    <tr>\n",
       "      <th>154</th>\n",
       "      <td>154</td>\n",
       "      <td>6</td>\n",
       "    </tr>\n",
       "    <tr>\n",
       "      <th>155</th>\n",
       "      <td>155</td>\n",
       "      <td>6</td>\n",
       "    </tr>\n",
       "    <tr>\n",
       "      <th>156</th>\n",
       "      <td>156</td>\n",
       "      <td>12</td>\n",
       "    </tr>\n",
       "  </tbody>\n",
       "</table>\n",
       "<p>157 rows × 2 columns</p>\n",
       "</div>"
      ],
      "text/plain": [
       "     node_id  degree\n",
       "0          0       5\n",
       "1          1      12\n",
       "2          2       9\n",
       "3          3      10\n",
       "4          4       5\n",
       "..       ...     ...\n",
       "152      152       8\n",
       "153      153       3\n",
       "154      154       6\n",
       "155      155       6\n",
       "156      156      12\n",
       "\n",
       "[157 rows x 2 columns]"
      ]
     },
     "execution_count": 32,
     "metadata": {},
     "output_type": "execute_result"
    }
   ],
   "source": [
    "# I will focus on an undireced graph as the random graph and compare it to the facebook graph\n",
    "facebook_nodes = facebook_graph.number_of_nodes()\n",
    "facebook_edges = facebook_graph.number_of_edges()\n",
    "random_graph = nx.gnm_random_graph(facebook_nodes,facebook_edges)\n",
    "\n",
    "degree_distribution_facebook(random_graph,\"Random Graph\")"
   ]
  },
  {
   "cell_type": "markdown",
   "metadata": {},
   "source": [
    "The random graph resembles more a normal distribution, while the chosen network (Facebook) tends to follow a power-law distribution, \n",
    "where a few nodes (hubs) have many connections, and most nodes have few connections. This could be explained by the fact that users mainly use Facebook to stay in contact with one or a few friends. a random network with the same number of nodes and edges tends to have a binomial degree distribution, \n",
    "where most nodes have similar numbers of connections. The difference is due to real-world networks' structure, \n",
    "often influenced by preferential attachment."
   ]
  },
  {
   "cell_type": "markdown",
   "metadata": {},
   "source": [
    "### (c) What is the average path length of the network?"
   ]
  },
  {
   "cell_type": "code",
   "execution_count": 43,
   "metadata": {},
   "outputs": [],
   "source": [
    "def compute_average_path_length(graph, title):\n",
    "    if nx.is_connected(graph):\n",
    "        avg_path_length = nx.average_shortest_path_length(graph)\n",
    "        print(f\"The average path length of {title}: {avg_path_length}\")\n",
    "    else:\n",
    "        # For disconnected graphs, use the largest connected component\n",
    "        largest_cc = max(nx.connected_components(graph), key=len)\n",
    "        subgraph = graph.subgraph(largest_cc)\n",
    "        avg_path_length = nx.average_shortest_path_length(subgraph)\n",
    "        print(f\"The average path length of {title} (Largest Component): {avg_path_length}\")\n",
    "        "
   ]
  },
  {
   "cell_type": "markdown",
   "metadata": {},
   "source": [
    "1. Facebook (Undirected)"
   ]
  },
  {
   "cell_type": "code",
   "execution_count": 44,
   "metadata": {},
   "outputs": [
    {
     "name": "stdout",
     "output_type": "stream",
     "text": [
      "The average path length of Facebook-Ego (Largest Component): 4.097008666480291\n"
     ]
    }
   ],
   "source": [
    "compute_average_path_length(facebook_graph,\"Facebook-Ego\")"
   ]
  },
  {
   "cell_type": "markdown",
   "metadata": {},
   "source": [
    "2. Twitter (Directed)"
   ]
  },
  {
   "cell_type": "code",
   "execution_count": 46,
   "metadata": {},
   "outputs": [],
   "source": [
    "def average_path_length_directed(graph):\n",
    "    total_distance = 0\n",
    "    count_paths = 0\n",
    "\n",
    "    # Iterate over all pairs of nodes in the directed graph\n",
    "    for source in graph.nodes():\n",
    "        for target in graph.nodes():\n",
    "            if source != target:\n",
    "                try:\n",
    "                    # Compute shortest path length\n",
    "                    distance = nx.shortest_path_length(graph, source=source, target=target)\n",
    "                    total_distance += distance\n",
    "                    count_paths += 1\n",
    "                except nx.NetworkXNoPath:\n",
    "                    # Skip if there is no path between source and target\n",
    "                    pass\n",
    "\n",
    "    # Calculate the average path length\n",
    "    if count_paths > 0:\n",
    "        average_length = total_distance / count_paths\n",
    "    else:\n",
    "        average_length = float('inf')  \n",
    "    print(f\"Average path length in the directed graph: {average_length}\")\n",
    "    return average_length"
   ]
  },
  {
   "cell_type": "code",
   "execution_count": 48,
   "metadata": {},
   "outputs": [
    {
     "name": "stdout",
     "output_type": "stream",
     "text": [
      "Average path length in the directed graph: 2.3963952282157677\n"
     ]
    },
    {
     "data": {
      "text/plain": [
       "2.3963952282157677"
      ]
     },
     "execution_count": 48,
     "metadata": {},
     "output_type": "execute_result"
    }
   ],
   "source": [
    "average_path_length_directed(twitter_graph)"
   ]
  },
  {
   "cell_type": "markdown",
   "metadata": {},
   "source": [
    "### (d) Please randomly choose 5 nodes from the network, and calculate the clustering coefficients of these nodes, respectively."
   ]
  },
  {
   "cell_type": "code",
   "execution_count": 50,
   "metadata": {},
   "outputs": [],
   "source": [
    "def compute_random_clustering_coefficients(graph, num_nodes=5):\n",
    "    random_nodes = random.sample(list(graph.nodes()), num_nodes)\n",
    "    clustering_coeffs = {node: nx.clustering(graph, node) for node in random_nodes}\n",
    "    print(f\"Clustering coefficients for 5 random nodes: {clustering_coeffs}\")\n",
    "    return clustering_coeffs"
   ]
  },
  {
   "cell_type": "code",
   "execution_count": 51,
   "metadata": {},
   "outputs": [
    {
     "name": "stdout",
     "output_type": "stream",
     "text": [
      "Clustering coefficients for 5 random nodes: {2668: 0.2, 2697: 0, 1171: 0.4666666666666667, 2775: 0.5, 1726: 0.47619047619047616}\n",
      "Clustering coefficients for 5 random nodes: {18785238: 0.5048643113159242, 11440442: 0.46153846153846156, 22269570: 0.6096256684491979, 14099695: 1.0, 17366486: 0.5289304500292227}\n"
     ]
    }
   ],
   "source": [
    "facebook_clustering_coeffs = compute_random_clustering_coefficients(facebook_graph)\n",
    "twitter_clustering_coeffs = compute_random_clustering_coefficients(twitter_graph.to_undirected())"
   ]
  },
  {
   "cell_type": "markdown",
   "metadata": {},
   "source": [
    "### (e) What is the average clustering coefficient?"
   ]
  },
  {
   "cell_type": "code",
   "execution_count": 52,
   "metadata": {},
   "outputs": [],
   "source": [
    "def compute_average_clustering_coefficient(graph, title):\n",
    "    avg_clustering = nx.average_clustering(graph)\n",
    "    print(f\"The average clustering coefficient of {title}: {avg_clustering}\")"
   ]
  },
  {
   "cell_type": "code",
   "execution_count": 53,
   "metadata": {},
   "outputs": [
    {
     "name": "stdout",
     "output_type": "stream",
     "text": [
      "The average clustering coefficient of Facebook-Ego Network: 0.39469415134853486\n",
      "The average clustering coefficient of Twitter-Ego Network: 0.5558321649127087\n"
     ]
    }
   ],
   "source": [
    "compute_average_clustering_coefficient(facebook_graph, \"Facebook-Ego Network\")\n",
    "compute_average_clustering_coefficient(twitter_graph.to_undirected(), \"Twitter-Ego Network\")"
   ]
  },
  {
   "cell_type": "markdown",
   "metadata": {},
   "source": [
    "### (f) Please list the nodes which compose the largest component in the network"
   ]
  },
  {
   "cell_type": "code",
   "execution_count": 54,
   "metadata": {},
   "outputs": [],
   "source": [
    "def find_largest_component(graph, title):\n",
    "    largest_cc = max(nx.connected_components(graph), key=len)\n",
    "    print(f\"The largest component in {title} consists of {len(largest_cc)} nodes.\")\n",
    "    print(f\"Nodes in the largest component: {largest_cc}\")\n"
   ]
  },
  {
   "cell_type": "code",
   "execution_count": 55,
   "metadata": {},
   "outputs": [
    {
     "name": "stdout",
     "output_type": "stream",
     "text": [
      "The largest component in Facebook-Ego Network consists of 147 nodes.\n",
      "Nodes in the largest component: {58, 2661, 2662, 2663, 2664, 2665, 2666, 2667, 2668, 2669, 107, 1642, 2672, 2673, 2674, 2675, 2676, 2677, 2678, 2679, 2680, 1656, 2681, 2682, 2684, 2683, 2686, 2687, 2685, 2689, 2690, 1666, 2688, 2692, 2694, 2695, 2696, 2697, 2698, 2693, 2700, 2701, 2702, 2704, 2705, 2706, 2707, 2708, 2709, 2710, 2711, 2712, 2713, 2714, 2715, 2716, 2717, 2718, 2719, 2720, 2723, 2724, 2725, 2726, 2727, 2728, 2729, 2730, 2731, 171, 2733, 2734, 2735, 2737, 2738, 2739, 2740, 2741, 2742, 2743, 2744, 2745, 2746, 2747, 2748, 2749, 2750, 2751, 2752, 2753, 2754, 2755, 1726, 2757, 2758, 2759, 2760, 2756, 2762, 2763, 2761, 2765, 2764, 2766, 2768, 2769, 2770, 2772, 2773, 2775, 2777, 2778, 2779, 2780, 2781, 2782, 2783, 2784, 2785, 2786, 2787, 1758, 2789, 2790, 2791, 2793, 2794, 2795, 2796, 2797, 2798, 2800, 2801, 2802, 2803, 2804, 2805, 2806, 2807, 2808, 1171, 1405, 1419, 1450, 990, 1505, 1534}\n",
      "The largest component in Twitter-Ego Network consists of 143 nodes.\n",
      "Nodes in the largest component: {16337410, 16438279, 91950604, 54630927, 14393872, 17243158, 25328663, 14289945, 10292772, 14276654, 14991920, 18688051, 56262196, 10297, 15199296, 20688961, 39319616, 110983747, 36609600, 14263368, 14191184, 16436311, 90420314, 16588386, 23070306, 14074466, 55400035, 356963, 61902439, 68792936, 50888802, 32476266, 15527013, 19837036, 17844854, 21992059, 18498684, 15901309, 22269570, 10716292, 5394052, 14333574, 14779526, 23729800, 24038026, 29693074, 30614676, 16536215, 20114072, 16023, 71413402, 70843031, 15625377, 2137251, 14335143, 19421355, 18679467, 18393773, 14327983, 23164604, 24807616, 14185671, 10880202, 62581962, 1248461, 28123862, 16729309, 18169053, 16337119, 34749159, 20571373, 14099695, 30330097, 19670772, 26964728, 17030398, 18785030, 145344776, 18485009, 19814678, 809760, 62127399, 69203755, 14708012, 20838196, 11440442, 14050619, 7305532, 141241148, 18354504, 162145099, 17856843, 140323151, 36350289, 16017753, 18220380, 16267101, 23788393, 57186667, 14207863, 14655351, 23002488, 38699900, 28337536, 24225670, 34560904, 91718540, 15367053, 19094415, 12378512, 14292370, 14290835, 9893782, 14855064, 10394522, 18776987, 16933278, 15855519, 16568227, 17930661, 29114279, 14494634, 2120621, 104708526, 64318383, 36263344, 15907760, 68459447, 15077314, 27051975, 36240331, 58407373, 1809871, 17174484, 17366486, 18785238, 16012759, 54743, 34066409, 14708203, 19031023, 17006579, 31159284}\n"
     ]
    }
   ],
   "source": [
    "find_largest_component(facebook_graph, \"Facebook-Ego Network\")\n",
    "find_largest_component(twitter_graph.to_undirected(), \"Twitter-Ego Network\")"
   ]
  }
 ],
 "metadata": {
  "kernelspec": {
   "display_name": "base",
   "language": "python",
   "name": "python3"
  },
  "language_info": {
   "codemirror_mode": {
    "name": "ipython",
    "version": 3
   },
   "file_extension": ".py",
   "mimetype": "text/x-python",
   "name": "python",
   "nbconvert_exporter": "python",
   "pygments_lexer": "ipython3",
   "version": "3.11.5"
  }
 },
 "nbformat": 4,
 "nbformat_minor": 2
}
