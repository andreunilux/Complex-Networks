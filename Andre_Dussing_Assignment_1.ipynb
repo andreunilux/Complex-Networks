{
 "cells": [
  {
   "cell_type": "markdown",
   "metadata": {},
   "source": [
    "# Analysis of Complex Networks \n",
    "## Assignment 1 (Group 6)\n",
    "### Student: André Dussing  ID: 018113442F "
   ]
  },
  {
   "cell_type": "markdown",
   "metadata": {},
   "source": [
    "Github: https://github.com/andreunilux/Complex-Networks"
   ]
  },
  {
   "cell_type": "code",
   "execution_count": 29,
   "metadata": {},
   "outputs": [],
   "source": [
    "# import necessary libraries\n",
    "import networkx as nx\n",
    "import numpy as np\n",
    "import pandas as pd\n",
    "import os"
   ]
  },
  {
   "cell_type": "markdown",
   "metadata": {},
   "source": [
    "At first we set the path according to our dataset we are using (here Group6)\n"
   ]
  },
  {
   "cell_type": "markdown",
   "metadata": {},
   "source": [
    "1. Facebook-Ego \n",
    "2. Twitter-Ego"
   ]
  },
  {
   "cell_type": "code",
   "execution_count": 30,
   "metadata": {},
   "outputs": [],
   "source": [
    "path = \"exercise_complex_network/Datasets/Group6\"\n",
    "path_facebook = os.path.join(path,\"Facebook-Ego\", \"1684.edges\" ) # 1. Facebook-Ego\n",
    "path_twitter =  os.path.join(path,\"Twitter-Ego\", \"2029971.edges\" ) # 2. Twitter-Ego\n",
    "# Now we read the edge list from the file and create the graph with NetworkX\n",
    "\n",
    "\n",
    "facebook_graph = nx.read_edgelist(path_facebook, nodetype=int) # Undirected\n",
    "twitter_graph = nx.read_edgelist(path_twitter, nodetype=int, create_using=nx.DiGraph()) #Directed\n",
    "\n",
    "\n"
   ]
  },
  {
   "cell_type": "markdown",
   "metadata": {},
   "source": [
    "### (a) How many nodes and edges are there in the networks?"
   ]
  },
  {
   "cell_type": "markdown",
   "metadata": {},
   "source": [
    "1. Facebook (Undirected)"
   ]
  },
  {
   "cell_type": "code",
   "execution_count": 31,
   "metadata": {},
   "outputs": [
    {
     "name": "stdout",
     "output_type": "stream",
     "text": [
      "Number of nodes: 157\n",
      "Number of edges: 569\n"
     ]
    }
   ],
   "source": [
    "facebook_nodes = facebook_graph.number_of_nodes()\n",
    "facebook_edges = facebook_graph.number_of_edges()\n",
    "print(f\"Number of nodes: {facebook_nodes}\")\n",
    "print(f\"Number of edges: {facebook_edges}\")"
   ]
  },
  {
   "cell_type": "markdown",
   "metadata": {},
   "source": [
    "2. Twitter (Directed)"
   ]
  },
  {
   "cell_type": "code",
   "execution_count": 32,
   "metadata": {},
   "outputs": [
    {
     "name": "stdout",
     "output_type": "stream",
     "text": [
      "Number of nodes: 143\n",
      "Number of edges: 2830\n"
     ]
    }
   ],
   "source": [
    "twitter_nodes = twitter_graph.number_of_nodes()\n",
    "twitter_edges = twitter_graph.number_of_edges()\n",
    "print(f\"Number of nodes: {twitter_nodes}\")\n",
    "print(f\"Number of edges: {twitter_edges}\")"
   ]
  },
  {
   "cell_type": "markdown",
   "metadata": {},
   "source": [
    "### (b) What are the maximum degree and the average degree of the networks?"
   ]
  },
  {
   "cell_type": "markdown",
   "metadata": {},
   "source": [
    "1. Facebook (Undirected)"
   ]
  },
  {
   "cell_type": "code",
   "execution_count": 33,
   "metadata": {},
   "outputs": [
    {
     "name": "stdout",
     "output_type": "stream",
     "text": [
      "Maxi Degree: 30\n",
      "Average Degree: 7.248407643312102\n"
     ]
    }
   ],
   "source": [
    "degrees = dict(facebook_graph.degree())\n",
    "facebook_max_degree = max(degrees.values()) # maximum degree\n",
    "facebook_average_degree = sum(degrees.values()) / facebook_nodes # average degree\n",
    "print(f\"Maxi Degree: {facebook_max_degree}\")\n",
    "print(f\"Average Degree: {facebook_average_degree}\")"
   ]
  },
  {
   "cell_type": "markdown",
   "metadata": {},
   "source": [
    "2. Twitter (Directed)"
   ]
  },
  {
   "cell_type": "code",
   "execution_count": 34,
   "metadata": {},
   "outputs": [
    {
     "name": "stdout",
     "output_type": "stream",
     "text": [
      "Twitter-Ego Max In-Degree: 77\n",
      "Twitter-Ego Average In-Degree: 19.79020979020979\n",
      "Twitter-Ego Max Out-Degree: 81\n",
      "Twitter-Ego Average Out-Degree: 19.79020979020979\n"
     ]
    }
   ],
   "source": [
    "# In-degree (number of incoming edges to a node)\n",
    "in_degrees = dict(twitter_graph.in_degree())\n",
    "twitter_max_in_degree = max(in_degrees.values())  # Maximum in-degree\n",
    "twitter_average_in_degree = sum(in_degrees.values()) / twitter_nodes  # Average in-degree\n",
    "\n",
    "# Out-degree (number of outgoing edges from a node)\n",
    "out_degrees = dict(twitter_graph.out_degree())\n",
    "twitter_max_out_degree = max(out_degrees.values())  # Maximum out-degree\n",
    "twitter_average_out_degree = sum(out_degrees.values()) / twitter_nodes  # Average out-degree\n",
    "\n",
    "print(f\"Twitter-Ego Max In-Degree: {twitter_max_in_degree}\")\n",
    "print(f\"Twitter-Ego Average In-Degree: {twitter_average_in_degree}\")\n",
    "\n",
    "print(f\"Twitter-Ego Max Out-Degree: {twitter_max_out_degree}\")\n",
    "print(f\"Twitter-Ego Average Out-Degree: {twitter_average_out_degree}\")"
   ]
  },
  {
   "cell_type": "markdown",
   "metadata": {},
   "source": [
    "### (c) Extract 5 - 8 nodes from the network and state them as a partial network. What is the adjacency matrix of the partial network? Why do we need adjacency matrix to describe the structure of the network?"
   ]
  },
  {
   "cell_type": "code",
   "execution_count": 35,
   "metadata": {},
   "outputs": [],
   "source": [
    "# calculate adjacency matrix\n",
    "def partial_network_adjacency(graph, nodes_to_extract):\n",
    "    partial_graph = graph.subgraph(nodes_to_extract)\n",
    "    adjacency_matrix = nx.adjacency_matrix(partial_graph)\n",
    "    return adjacency_matrix"
   ]
  },
  {
   "cell_type": "markdown",
   "metadata": {},
   "source": [
    "1. Facebook (Undirected)"
   ]
  },
  {
   "cell_type": "code",
   "execution_count": 43,
   "metadata": {},
   "outputs": [
    {
     "name": "stdout",
     "output_type": "stream",
     "text": [
      "Sample Nodes: [2793, 2787, 2773, 2666, 2679, 2756]\n",
      "Adjacency Matrix: [[0 0 1 0 0 0]\n",
      " [0 0 0 0 1 1]\n",
      " [1 0 0 0 0 0]\n",
      " [0 0 0 0 1 0]\n",
      " [0 1 0 1 0 1]\n",
      " [0 1 0 0 1 0]]\n"
     ]
    }
   ],
   "source": [
    "facebook_sample_nodes = list(facebook_graph.nodes())[:6]  \n",
    "facebook_adj_matrix= partial_network_adjacency(facebook_graph, facebook_sample_nodes)\n",
    "print(f\"Sample Nodes: {facebook_sample_nodes}\")\n",
    "print(f\"Adjacency Matrix: {facebook_adj_matrix.todense()}\")"
   ]
  },
  {
   "cell_type": "markdown",
   "metadata": {},
   "source": [
    "2. Twitter (Directed)"
   ]
  },
  {
   "cell_type": "code",
   "execution_count": 45,
   "metadata": {},
   "outputs": [
    {
     "name": "stdout",
     "output_type": "stream",
     "text": [
      "Sample Nodes: [17030398, 14263368, 19837036, 15077314, 23070306, 18354504]\n",
      "Adjacency Matrix: [[0 1 1 1 1 0]\n",
      " [0 0 1 0 0 0]\n",
      " [1 1 0 1 1 1]\n",
      " [1 0 1 0 1 0]\n",
      " [1 1 1 1 0 0]\n",
      " [0 0 1 0 0 0]]\n"
     ]
    }
   ],
   "source": [
    "twitter_sample_nodes = list(twitter_graph.nodes())[:6]\n",
    "twitter_adj_matrix = partial_network_adjacency(twitter_graph, twitter_sample_nodes)\n",
    "print(f\"Sample Nodes: {twitter_sample_nodes}\")\n",
    "print(f\"Adjacency Matrix: {twitter_adj_matrix.todense()}\")"
   ]
  },
  {
   "cell_type": "markdown",
   "metadata": {},
   "source": [
    "The adjacency matrix is a very practical and compact way to describe the structure of a network. The rows and columns of the matrix represent nodes, and the entries indicate whether there is an edge between a pair of nodes. For undirected graphs, the adjacency matrix is symmetric, while for directed graphs, it can be asymmetric."
   ]
  }
 ],
 "metadata": {
  "kernelspec": {
   "display_name": "base",
   "language": "python",
   "name": "python3"
  },
  "language_info": {
   "codemirror_mode": {
    "name": "ipython",
    "version": 3
   },
   "file_extension": ".py",
   "mimetype": "text/x-python",
   "name": "python",
   "nbconvert_exporter": "python",
   "pygments_lexer": "ipython3",
   "version": "3.11.5"
  }
 },
 "nbformat": 4,
 "nbformat_minor": 2
}
